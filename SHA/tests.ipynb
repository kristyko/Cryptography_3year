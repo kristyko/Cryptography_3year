{
 "cells": [
  {
   "cell_type": "code",
   "execution_count": 1,
   "metadata": {},
   "outputs": [],
   "source": [
    "import hmac\n",
    "import hashlib"
   ]
  },
  {
   "cell_type": "code",
   "execution_count": 3,
   "metadata": {},
   "outputs": [],
   "source": [
    "from sha256 import SHA256, generate_key\n",
    "from hmac_sha256 import HMAC_sha256\n",
    "from primes import extract_constants"
   ]
  },
  {
   "cell_type": "code",
   "execution_count": 5,
   "metadata": {},
   "outputs": [],
   "source": [
    "h = [0x6a09e667, 0xbb67ae85, 0x3c6ef372, 0xa54ff53a, \n",
    "     0x510e527f, 0x9b05688c, 0x1f83d9ab, 0x5be0cd19]\n",
    "k = [0x428a2f98, 0x71374491, 0xb5c0fbcf, 0xe9b5dba5, 0x3956c25b, 0x59f111f1, \n",
    "     0x923f82a4, 0xab1c5ed5, 0xd807aa98, 0x12835b01, 0x243185be, 0x550c7dc3, \n",
    "     0x72be5d74, 0x80deb1fe, 0x9bdc06a7, 0xc19bf174, 0xe49b69c1, 0xefbe4786, \n",
    "     0x0fc19dc6, 0x240ca1cc, 0x2de92c6f, 0x4a7484aa, 0x5cb0a9dc, 0x76f988da,\n",
    "     0x983e5152, 0xa831c66d, 0xb00327c8, 0xbf597fc7, 0xc6e00bf3, 0xd5a79147, \n",
    "     0x06ca6351, 0x14292967, 0x27b70a85, 0x2e1b2138, 0x4d2c6dfc, 0x53380d13,\n",
    "     0x650a7354, 0x766a0abb, 0x81c2c92e, 0x92722c85, 0xa2bfe8a1, 0xa81a664b,\n",
    "     0xc24b8b70, 0xc76c51a3, 0xd192e819, 0xd6990624, 0xf40e3585, 0x106aa070,\n",
    "     0x19a4c116, 0x1e376c08, 0x2748774c, 0x34b0bcb5, 0x391c0cb3, 0x4ed8aa4a, \n",
    "     0x5b9cca4f, 0x682e6ff3, 0x748f82ee, 0x78a5636f, 0x84c87814, 0x8cc70208, \n",
    "     0x90befffa, 0xa4506ceb, 0xbef9a3f7, 0xc67178f2]"
   ]
  },
  {
   "cell_type": "code",
   "execution_count": 6,
   "metadata": {},
   "outputs": [
    {
     "name": "stdout",
     "output_type": "stream",
     "text": [
      "True True\n"
     ]
    }
   ],
   "source": [
    "# check if constants are correct\n",
    "H, K = extract_constants()\n",
    "print(H == h, K == k)"
   ]
  },
  {
   "cell_type": "code",
   "execution_count": 8,
   "metadata": {},
   "outputs": [
    {
     "name": "stdout",
     "output_type": "stream",
     "text": [
      "True True\n",
      "True True\n",
      "True True\n",
      "True True\n"
     ]
    }
   ],
   "source": [
    "# test SHA-256\n",
    "message = \"abc\".encode('utf-8')\n",
    "print(hashlib.sha256(message).digest() == SHA256(message).digest(),\n",
    "      hashlib.sha256(message).hexdigest() == SHA256(message).hexdigest())\n",
    "\n",
    "message = \"The quick brown fox jumps over the lazy dog\".encode('utf-8')\n",
    "print(hashlib.sha256(message).digest() == SHA256(message).digest(),\n",
    "      hashlib.sha256(message).hexdigest() == SHA256(message).hexdigest())\n",
    "\n",
    "message = \"\".encode('utf-8')\n",
    "print(hashlib.sha256(message).digest() == SHA256(message).digest(),\n",
    "      hashlib.sha256(message).hexdigest() == SHA256(message).hexdigest())\n",
    "\n",
    "message = ('abc' * 999).encode('utf-8')\n",
    "print(hashlib.sha256(message).digest() == SHA256(message).digest(),\n",
    "      hashlib.sha256(message).hexdigest() == SHA256(message).hexdigest())"
   ]
  },
  {
   "cell_type": "code",
   "execution_count": 9,
   "metadata": {},
   "outputs": [
    {
     "name": "stdout",
     "output_type": "stream",
     "text": [
      "128 b',p\\xe1+z\\x06F\\xf9\"y\\xf4\\'\\xc7\\xb3\\x8es'\n"
     ]
    }
   ],
   "source": [
    "aes_key = generate_key(b\"key\")\n",
    "print(8 * len(aes_key), aes_key)"
   ]
  },
  {
   "cell_type": "code",
   "execution_count": 11,
   "metadata": {},
   "outputs": [
    {
     "name": "stdout",
     "output_type": "stream",
     "text": [
      "True True\n",
      "True True\n",
      "True True\n"
     ]
    }
   ],
   "source": [
    "# test hmac\n",
    "secret = 'key'.encode('utf-8')\n",
    "msg = (\"The quick brown fox jumps over the lazy dog\" * 100).encode('utf-8')\n",
    "a = HMAC_sha256(secret, msg)\n",
    "print(a.digest() == hmac.new(secret, msg, digestmod=hashlib.sha256).digest(),\n",
    "      a.hexdigest() == hmac.new(secret, msg, digestmod=hashlib.sha256).hexdigest())\n",
    "\n",
    "secret = ('meow' * 20).encode('utf-8')\n",
    "msg = (\"The quick brown fox jumps over the lazy dog\" * 100).encode('utf-8')\n",
    "a = HMAC_sha256(secret, msg)\n",
    "print(a.digest() == hmac.new(secret, msg, digestmod=hashlib.sha256).digest(),\n",
    "      a.hexdigest() == hmac.new(secret, msg, digestmod=hashlib.sha256).hexdigest())\n",
    "\n",
    "secret = 'key'.encode('utf-8')\n",
    "msg = (\"\").encode('utf-8')\n",
    "a = HMAC_sha256(secret, msg)\n",
    "print(a.digest() == hmac.new(secret, msg, digestmod=hashlib.sha256).digest(),\n",
    "      a.hexdigest() == hmac.new(secret, msg, digestmod=hashlib.sha256).hexdigest())"
   ]
  }
 ],
 "metadata": {
  "kernelspec": {
   "display_name": "Python 3",
   "language": "python",
   "name": "python3"
  },
  "language_info": {
   "codemirror_mode": {
    "name": "ipython",
    "version": 3
   },
   "file_extension": ".py",
   "mimetype": "text/x-python",
   "name": "python",
   "nbconvert_exporter": "python",
   "pygments_lexer": "ipython3",
   "version": "3.7.4"
  }
 },
 "nbformat": 4,
 "nbformat_minor": 2
}
