{
 "cells": [
  {
   "cell_type": "code",
   "execution_count": 1,
   "metadata": {
    "collapsed": false
   },
   "outputs": [
   ],
   "source": [
    "from rsa_studyv import *"
   ]
  },
  {
   "cell_type": "code",
   "execution_count": 2,
   "metadata": {
    "collapsed": false
   },
   "outputs": [
   ],
   "source": [
    "public, private = key_gen()"
   ]
  },
  {
   "cell_type": "code",
   "execution_count": 3,
   "metadata": {
    "collapsed": false
   },
   "outputs": [
    {
     "data": {
      "text/plain": [
       "(87493759487970665505762505559567782726231610082414214752551928198216864508406447311314876720519850639395267870489145172417393216546461816389157447901713296063389957385901130633445283405170977581840939023910744288591547953991848783508292441067534922234909064787643582233985355696607327283616125455999329166889,\n",
       " 37501042610487673968960060260481236201581703851125413109471353643193714600010209082544699358339211847515806500824749523268381230247383210074072916472253167460464053)"
      ]
     },
     "execution_count": 3,
     "metadata": {
     },
     "output_type": "execute_result"
    }
   ],
   "source": [
    "N, e = public; N, e"
   ]
  },
  {
   "cell_type": "code",
   "execution_count": 4,
   "metadata": {
    "collapsed": false
   },
   "outputs": [
    {
     "data": {
      "text/plain": [
       "(87493759487970665505762505559567782726231610082414214752551928198216864508406447311314876720519850639395267870489145172417393216546461816389157447901713296063389957385901130633445283405170977581840939023910744288591547953991848783508292441067534922234909064787643582233985355696607327283616125455999329166889,\n",
       " 70427541465174668545099165279163256117482217316135209544981509539485452113129060616646306355453744285868930005424680419535350727793905060059949068594431145833173258980951164976166781814570455938574908004301808595289069255723395933592443359994245171505658350078485664992716016876042715035241057739889190976229)"
      ]
     },
     "execution_count": 4,
     "metadata": {
     },
     "output_type": "execute_result"
    }
   ],
   "source": [
    "N, e, d, p, q = private; N, d"
   ]
  },
  {
   "cell_type": "code",
   "execution_count": 5,
   "metadata": {
    "collapsed": false
   },
   "outputs": [
    {
     "data": {
      "text/plain": [
       "True"
      ]
     },
     "execution_count": 5,
     "metadata": {
     },
     "output_type": "execute_result"
    }
   ],
   "source": [
    "is_prime(p)"
   ]
  },
  {
   "cell_type": "code",
   "execution_count": 6,
   "metadata": {
    "collapsed": false
   },
   "outputs": [
    {
     "data": {
      "text/plain": [
       "True"
      ]
     },
     "execution_count": 6,
     "metadata": {
     },
     "output_type": "execute_result"
    }
   ],
   "source": [
    "is_prime(q)"
   ]
  },
  {
   "cell_type": "code",
   "execution_count": 7,
   "metadata": {
    "collapsed": false
   },
   "outputs": [
    {
     "data": {
      "text/plain": [
       "1"
      ]
     },
     "execution_count": 7,
     "metadata": {
     },
     "output_type": "execute_result"
    }
   ],
   "source": [
    "e * d % ((p - 1) * (q - 1))"
   ]
  },
  {
   "cell_type": "code",
   "execution_count": 8,
   "metadata": {
    "collapsed": false
   },
   "outputs": [
    {
     "name": "stdout",
     "output_type": "stream",
     "text": [
      "Decrypted message: Hello, world!\n"
     ]
    }
   ],
   "source": [
    "message = \"Hello, world!\".encode(\"utf-8\")\n",
    "\n",
    "bob_pub, bob_priv = key_gen()\n",
    "encr = encrypt(message, bob_pub)\n",
    "decr = decrypt(encr, bob_priv)\n",
    "print('Decrypted message:', int.to_bytes(decr, decr.bit_length() // 8 + 1,'big').decode('utf-8'))"
   ]
  },
  {
   "cell_type": "code",
   "execution_count": 9,
   "metadata": {
    "collapsed": false
   },
   "outputs": [
   ],
   "source": [
    "encrypted = power_mod(int.from_bytes(message, 'big'), bob_pub[1], bob_pub[0])\n",
    "decrypted = power_mod(encrypted, bob_priv[2], bob_priv[0])"
   ]
  },
  {
   "cell_type": "code",
   "execution_count": 10,
   "metadata": {
    "collapsed": false
   },
   "outputs": [
    {
     "data": {
      "text/plain": [
       "True"
      ]
     },
     "execution_count": 10,
     "metadata": {
     },
     "output_type": "execute_result"
    }
   ],
   "source": [
    "encr == encrypted"
   ]
  },
  {
   "cell_type": "code",
   "execution_count": 11,
   "metadata": {
    "collapsed": false
   },
   "outputs": [
    {
     "data": {
      "text/plain": [
       "True"
      ]
     },
     "execution_count": 11,
     "metadata": {
     },
     "output_type": "execute_result"
    }
   ],
   "source": [
    "decr == decrypted"
   ]
  },
  {
   "cell_type": "markdown",
   "metadata": {
    "collapsed": false
   },
   "source": [
    "Check correctness of RSAES-OAEP"
   ]
  },
  {
   "cell_type": "code",
   "execution_count": 19,
   "metadata": {
    "collapsed": false
   },
   "outputs": [
   ],
   "source": [
    "from rsa_oaep import rsaes_oaep_encrypt, rsaes_oaep_decrypt"
   ]
  },
  {
   "cell_type": "code",
   "execution_count": 21,
   "metadata": {
    "collapsed": false
   },
   "outputs": [
    {
     "name": "stdout",
     "output_type": "stream",
     "text": [
      "Both encryption and decryption are successful: True\n"
     ]
    }
   ],
   "source": [
    "pub, priv = key_gen(1024)\n",
    "message = b'Hello'\n",
    "\n",
    "encr = rsaes_oaep_encrypt(pub, message)\n",
    "decr = rsaes_oaep_decrypt(priv, encr)\n",
    "print(\"Both encryption and decryption are successful:\", message == decr)"
   ]
  },
  {
   "cell_type": "code",
   "execution_count": 0,
   "metadata": {
    "collapsed": false
   },
   "outputs": [
   ],
   "source": [
   ]
  }
 ],
 "metadata": {
  "kernelspec": {
   "display_name": "SageMath (Development, Py3)",
   "language": "sagemath",
   "metadata": {
    "cocalc": {
     "description": "Open-source mathematical software system",
     "priority": -1,
     "url": "https://www.sagemath.org/"
    }
   },
   "name": "sage-develop"
  },
  "language_info": {
   "codemirror_mode": {
    "name": "ipython",
    "version": 3
   },
   "file_extension": ".py",
   "mimetype": "text/x-python",
   "name": "python",
   "nbconvert_exporter": "python",
   "pygments_lexer": "ipython3",
   "version": "3.7.3"
  }
 },
 "nbformat": 4,
 "nbformat_minor": 4
}